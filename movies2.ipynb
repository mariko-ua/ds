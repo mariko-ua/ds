{
 "cells": [
  {
   "cell_type": "code",
   "execution_count": 1,
   "id": "f0ba1d84-ffd7-481d-a6e7-d3b1eb1aba91",
   "metadata": {},
   "outputs": [],
   "source": [
    "import requests\n",
    "import os"
   ]
  },
  {
   "cell_type": "code",
   "execution_count": 2,
   "id": "405f454e-58cf-423f-b3f8-ad4688be3f66",
   "metadata": {},
   "outputs": [],
   "source": [
    "folder_name = \"data\"\n",
    "url = \"https://gist.githubusercontent.com/tiangechen/b68782efa49a16edaf07dc2cdaa855ea/raw/0c794a9717f18b094eabab2cd6a6b9a226903577/movies.csv\"\n",
    "file_name = \"movies.csv\""
   ]
  },
  {
   "cell_type": "code",
   "execution_count": 3,
   "id": "d8c73aab-16a5-4490-bf1b-22ef09fff8f4",
   "metadata": {},
   "outputs": [],
   "source": [
    "if not os.path.exists(folder_name):\n",
    "    os.makedirs(folder_name)"
   ]
  },
  {
   "cell_type": "code",
   "execution_count": 4,
   "id": "ee7d5fd3-ca0b-48d4-8ce1-1428d8e5b786",
   "metadata": {},
   "outputs": [
    {
     "data": {
      "text/plain": [
       "'data/movies.csv'"
      ]
     },
     "execution_count": 4,
     "metadata": {},
     "output_type": "execute_result"
    }
   ],
   "source": [
    "file_path = os.path.join(folder_name, file_name)\n",
    "file_path"
   ]
  },
  {
   "cell_type": "code",
   "execution_count": 5,
   "id": "cbdfebc8-fef9-4f40-afbe-7ebeb86bf36b",
   "metadata": {},
   "outputs": [
    {
     "data": {
      "text/plain": [
       "<Response [200]>"
      ]
     },
     "execution_count": 5,
     "metadata": {},
     "output_type": "execute_result"
    }
   ],
   "source": [
    "requests.get(url)"
   ]
  },
  {
   "cell_type": "code",
   "execution_count": 6,
   "id": "3e5c8bbd-b1ac-4a85-b0e8-59ff7f55b757",
   "metadata": {},
   "outputs": [],
   "source": [
    "response = requests.get(url)"
   ]
  },
  {
   "cell_type": "code",
   "execution_count": 7,
   "id": "6f1dd043-d3ce-4c23-bfed-3a34dcb61bb0",
   "metadata": {},
   "outputs": [
    {
     "name": "stdout",
     "output_type": "stream",
     "text": [
      "Successfully created file data/movies.csv\n"
     ]
    }
   ],
   "source": [
    "if response.status_code == 200:\n",
    "    with open(file_path, 'wb') as file:\n",
    "        file.write(response.content)\n",
    "    print(f\"Successfully created file {file_path}\")\n",
    "else:\n",
    "    print(\"Cannot download file.\")"
   ]
  },
  {
   "cell_type": "code",
   "execution_count": 8,
   "id": "7907fb6a-d237-4fd1-94a6-eb494ae03f6c",
   "metadata": {},
   "outputs": [],
   "source": [
    "import pandas as pd\n",
    "import numpy as np"
   ]
  },
  {
   "cell_type": "code",
   "execution_count": 9,
   "id": "c905dbf1-93b1-4bf2-9950-4d793cef575e",
   "metadata": {},
   "outputs": [],
   "source": [
    "# df = pd.read_table(\"movies.csv\", sep=\",\")\n",
    "df = pd.read_csv(\"data/movies.csv\")"
   ]
  },
  {
   "cell_type": "code",
   "execution_count": 10,
   "id": "03f3afb2-cb7c-4d52-b557-03b311b8eb7d",
   "metadata": {},
   "outputs": [],
   "source": [
    "df = df.drop_duplicates()"
   ]
  },
  {
   "cell_type": "code",
   "execution_count": 11,
   "id": "a2ac16ea-564b-49d6-97cd-fee906ab7a5c",
   "metadata": {},
   "outputs": [
    {
     "data": {
      "text/plain": [
       "Index(['Film', 'Genre', 'Lead Studio', 'Audience score %', 'Profitability',\n",
       "       'Rotten Tomatoes %', 'Worldwide Gross', 'Year'],\n",
       "      dtype='object')"
      ]
     },
     "execution_count": 11,
     "metadata": {},
     "output_type": "execute_result"
    }
   ],
   "source": [
    "df.columns"
   ]
  },
  {
   "cell_type": "code",
   "execution_count": 12,
   "id": "898b4601-9bb5-4da9-895c-c70b2dbaec55",
   "metadata": {},
   "outputs": [
    {
     "data": {
      "text/plain": [
       "Film                  object\n",
       "Genre                 object\n",
       "Lead Studio           object\n",
       "Audience score %       int64\n",
       "Profitability        float64\n",
       "Rotten Tomatoes %      int64\n",
       "Worldwide Gross       object\n",
       "Year                   int64\n",
       "dtype: object"
      ]
     },
     "execution_count": 12,
     "metadata": {},
     "output_type": "execute_result"
    }
   ],
   "source": [
    "df.dtypes"
   ]
  },
  {
   "cell_type": "code",
   "execution_count": 13,
   "id": "c868ccae-91fb-4672-b3a6-f6c79b2a64e7",
   "metadata": {},
   "outputs": [
    {
     "name": "stdout",
     "output_type": "stream",
     "text": [
      "<class 'pandas.core.frame.DataFrame'>\n",
      "Index: 75 entries, 0 to 76\n",
      "Data columns (total 8 columns):\n",
      " #   Column             Non-Null Count  Dtype  \n",
      "---  ------             --------------  -----  \n",
      " 0   Film               75 non-null     object \n",
      " 1   Genre              75 non-null     object \n",
      " 2   Lead Studio        75 non-null     object \n",
      " 3   Audience score %   75 non-null     int64  \n",
      " 4   Profitability      75 non-null     float64\n",
      " 5   Rotten Tomatoes %  75 non-null     int64  \n",
      " 6   Worldwide Gross    75 non-null     object \n",
      " 7   Year               75 non-null     int64  \n",
      "dtypes: float64(1), int64(3), object(4)\n",
      "memory usage: 5.3+ KB\n"
     ]
    }
   ],
   "source": [
    "df.info()"
   ]
  },
  {
   "cell_type": "code",
   "execution_count": 14,
   "id": "2edc1830-9f37-4c78-9785-9a0a19de03c5",
   "metadata": {},
   "outputs": [
    {
     "data": {
      "text/html": [
       "<div>\n",
       "<style scoped>\n",
       "    .dataframe tbody tr th:only-of-type {\n",
       "        vertical-align: middle;\n",
       "    }\n",
       "\n",
       "    .dataframe tbody tr th {\n",
       "        vertical-align: top;\n",
       "    }\n",
       "\n",
       "    .dataframe thead th {\n",
       "        text-align: right;\n",
       "    }\n",
       "</style>\n",
       "<table border=\"1\" class=\"dataframe\">\n",
       "  <thead>\n",
       "    <tr style=\"text-align: right;\">\n",
       "      <th></th>\n",
       "      <th>Audience score %</th>\n",
       "      <th>Profitability</th>\n",
       "      <th>Rotten Tomatoes %</th>\n",
       "      <th>Year</th>\n",
       "    </tr>\n",
       "  </thead>\n",
       "  <tbody>\n",
       "    <tr>\n",
       "      <th>count</th>\n",
       "      <td>75.000000</td>\n",
       "      <td>75.000000</td>\n",
       "      <td>75.000000</td>\n",
       "      <td>75.000000</td>\n",
       "    </tr>\n",
       "    <tr>\n",
       "      <th>mean</th>\n",
       "      <td>63.720000</td>\n",
       "      <td>4.527171</td>\n",
       "      <td>46.493333</td>\n",
       "      <td>2009.066667</td>\n",
       "    </tr>\n",
       "    <tr>\n",
       "      <th>std</th>\n",
       "      <td>13.699043</td>\n",
       "      <td>8.121111</td>\n",
       "      <td>26.412207</td>\n",
       "      <td>1.349007</td>\n",
       "    </tr>\n",
       "    <tr>\n",
       "      <th>min</th>\n",
       "      <td>35.000000</td>\n",
       "      <td>0.000000</td>\n",
       "      <td>3.000000</td>\n",
       "      <td>2007.000000</td>\n",
       "    </tr>\n",
       "    <tr>\n",
       "      <th>25%</th>\n",
       "      <td>52.000000</td>\n",
       "      <td>1.749447</td>\n",
       "      <td>26.000000</td>\n",
       "      <td>2008.000000</td>\n",
       "    </tr>\n",
       "    <tr>\n",
       "      <th>50%</th>\n",
       "      <td>64.000000</td>\n",
       "      <td>2.639333</td>\n",
       "      <td>43.000000</td>\n",
       "      <td>2009.000000</td>\n",
       "    </tr>\n",
       "    <tr>\n",
       "      <th>75%</th>\n",
       "      <td>75.000000</td>\n",
       "      <td>4.535337</td>\n",
       "      <td>64.500000</td>\n",
       "      <td>2010.000000</td>\n",
       "    </tr>\n",
       "    <tr>\n",
       "      <th>max</th>\n",
       "      <td>89.000000</td>\n",
       "      <td>66.934000</td>\n",
       "      <td>96.000000</td>\n",
       "      <td>2011.000000</td>\n",
       "    </tr>\n",
       "  </tbody>\n",
       "</table>\n",
       "</div>"
      ],
      "text/plain": [
       "       Audience score %  Profitability  Rotten Tomatoes %         Year\n",
       "count         75.000000      75.000000          75.000000    75.000000\n",
       "mean          63.720000       4.527171          46.493333  2009.066667\n",
       "std           13.699043       8.121111          26.412207     1.349007\n",
       "min           35.000000       0.000000           3.000000  2007.000000\n",
       "25%           52.000000       1.749447          26.000000  2008.000000\n",
       "50%           64.000000       2.639333          43.000000  2009.000000\n",
       "75%           75.000000       4.535337          64.500000  2010.000000\n",
       "max           89.000000      66.934000          96.000000  2011.000000"
      ]
     },
     "execution_count": 14,
     "metadata": {},
     "output_type": "execute_result"
    }
   ],
   "source": [
    "df.describe()"
   ]
  },
  {
   "cell_type": "code",
   "execution_count": 15,
   "id": "af98233c-0b4b-40e6-9cd0-f4d56f5cfdbc",
   "metadata": {},
   "outputs": [],
   "source": [
    "# 3. Скільки всього фільмів у наборі даних?\n",
    "# \tІснує щонайменше 5 способів:\n",
    "# 1)   Використовується метод unique() для визначення унікальних значень у стовпці \"Film\", та обчислюється їхня кількість за допомогою len().\n",
    "# 2)   Використовується функція len(), щоб порахувати загальну кількість рядків у DataFrame.\n",
    "# 3)   Використовується метод count(), який підраховує кількість ненульових значень у стовпці \"Film\".\n",
    "# 4)   Використовується метод value_counts(), який підраховує кількість кожного унікального значення у стовпці \"Film\".\n",
    "# 5)   Використовується атрибут shape, щоб отримати кортеж, який містить кількість рядків і стовпців у DataFrame."
   ]
  },
  {
   "cell_type": "code",
   "execution_count": 16,
   "id": "b35f22ff-eeb6-418e-a4db-48f7b687165a",
   "metadata": {},
   "outputs": [
    {
     "data": {
      "text/plain": [
       "Film\n",
       "(500) Days of Summer                  1\n",
       "27 Dresses                            1\n",
       "A Dangerous Method                    1\n",
       "A Serious Man                         1\n",
       "Across the Universe                   1\n",
       "                                     ..\n",
       "What Happens in Vegas                 1\n",
       "When in Rome                          1\n",
       "You Will Meet a Tall Dark Stranger    1\n",
       "Youth in Revolt                       1\n",
       "Zack and Miri Make a Porno            1\n",
       "Name: count, Length: 75, dtype: int64"
      ]
     },
     "execution_count": 16,
     "metadata": {},
     "output_type": "execute_result"
    }
   ],
   "source": [
    "df.value_counts(\"Film\") #4"
   ]
  },
  {
   "cell_type": "code",
   "execution_count": 17,
   "id": "3a1e852e-1269-4008-993f-da4e30f8aaad",
   "metadata": {},
   "outputs": [],
   "source": [
    "# 4. Скільки фільмів є у наборі даних для кожного року?\n",
    "# \tІснує щонайменше 5 способів:\n",
    "# 1)   Використовується метод value_counts(), щоб підрахувати кількість фільмів для кожного унікального року у стовпці \"Year\".\n",
    "# 2)   Використовується метод groupby() для групування рядків за значенням у стовпці \"Year\". \n",
    "#     Потім використовується метод agg() для обчислення кількості фільмів за кожний рік. Результат сортується за кількістю фільмів у зворотньому порядку.\n",
    "# 3)   Застосовується метод groupby() для групування даних за роками, а потім застосовується метод count() для підрахунку кількості фільмів у кожній групі:\n",
    "# groupby('Year')['Film'].count()\n",
    "# Результат представляється у вигляді DataFrame.\n",
    "# 4)   Застосовується метод groupby() для групування даних за роками, після чого обчислюється кількість фільмів у кожній групі: \n",
    "# groupby('Year').count()\n",
    "# Результат представляється у вигляді DataFrame, де відображаються тільки стовпці \"Year\" і \"Film\" за допомогою функції loc:\n",
    "# loc[:, ['Year', 'Film']]\n",
    "# 5)   Використовується цикл для перебору унікальних значень року зі стовпця \"Year\" і підрахунку кількості фільмів для кожного року. \n",
    "#     Кожний раз, коли відбувається ітерація, фільтрується DataFrame за значенням року, обчислюється його довжина (кількість рядків) \n",
    "# і виводиться результат разом з відповідним роком."
   ]
  },
  {
   "cell_type": "code",
   "execution_count": 18,
   "id": "57a5e03e-aa8a-4b2a-a3cf-475659d06458",
   "metadata": {},
   "outputs": [
    {
     "data": {
      "text/plain": [
       "Year\n",
       "2010    20\n",
       "2008    19\n",
       "2011    13\n",
       "2009    12\n",
       "2007    11\n",
       "Name: count, dtype: int64"
      ]
     },
     "execution_count": 18,
     "metadata": {},
     "output_type": "execute_result"
    }
   ],
   "source": [
    "df.value_counts(\"Year\")"
   ]
  },
  {
   "cell_type": "code",
   "execution_count": 19,
   "id": "be741587-3cc3-4bb8-80b1-7bb7687a4dbf",
   "metadata": {},
   "outputs": [],
   "source": [
    "# 5. Покажіть детальну інформацію про найменш та найбільш прибуткові фільми у наборі даних.\n",
    "# \tВикористаймо фільтрацію. Спочатку виводяться рядки, де значення стовпця \"Profitability\" дорівнює максимальному значенню у цьому стовпці, \n",
    "# щоб показати найбільш прибутковий фільм. \n",
    "#     Потім виводяться рядки, де значення стовпця \"Profitability\" дорівнює мінімальному значенню у цьому стовпці, щоб показати найменш прибутковий фільм. \n",
    "# \tІнший синтаксис: Значення максимального та мінімального прибутку можна також знайти, використовуючи метод loc з умовою isin()."
   ]
  },
  {
   "cell_type": "code",
   "execution_count": 20,
   "id": "9769d388-6b3d-4842-abf9-25d4401280e8",
   "metadata": {},
   "outputs": [
    {
     "data": {
      "text/plain": [
       "array(['Romance', 'Comedy', 'Drama', 'Animation', 'Fantasy', 'Romence',\n",
       "       'Comdy', 'Action', 'romance', 'comedy'], dtype=object)"
      ]
     },
     "execution_count": 20,
     "metadata": {},
     "output_type": "execute_result"
    }
   ],
   "source": [
    "df[\"Genre\"].unique()\n"
   ]
  },
  {
   "cell_type": "code",
   "execution_count": 21,
   "id": "ba3b0473-2bdf-4ebe-b45c-34adbd6d4cac",
   "metadata": {},
   "outputs": [],
   "source": [
    "df[\"Genre\"] = df[\"Genre\"].replace({\n",
    "    \"comedy\": \"Comedy\",\n",
    "    \"Comdy\": \"Comedy\",\n",
    "    \"Romence\": \"Romance\",\n",
    "    \"romance\": \"Romance\"\n",
    "})"
   ]
  },
  {
   "cell_type": "code",
   "execution_count": 22,
   "id": "8c75f138-3e92-4ec0-ad92-c5afa03605eb",
   "metadata": {},
   "outputs": [
    {
     "data": {
      "text/plain": [
       "array(['Romance', 'Comedy', 'Drama', 'Animation', 'Fantasy', 'Action'],\n",
       "      dtype=object)"
      ]
     },
     "execution_count": 22,
     "metadata": {},
     "output_type": "execute_result"
    }
   ],
   "source": [
    "df[\"Genre\"].unique()"
   ]
  },
  {
   "cell_type": "code",
   "execution_count": 23,
   "id": "8f487866-bfe3-4084-86fd-eb77168eaa82",
   "metadata": {},
   "outputs": [],
   "source": [
    "# 7. Збережіть (у новий файл CSV) 10 найкращих комедій за кількістю глядачів;  покажіть лише назву фільму, рік та студію.\n",
    "# \tВикористовується наступний підхід:\n",
    "# \tВідбираються всі комедії за допомогою фільтрування за жанром.\n",
    "# \tВідбираються перші 10 комедій за оцінкою глядачів у порядку спадання.\n",
    "# \tОбираються лише потрібні стовпці: назва фільму, рік та студія.\n",
    "# \tЗберігається результат у новому CSV файлі.\n",
    "# \tІнший синтаксис: Результати можна також знайти, використовуючи метод loc з умовою isin()."
   ]
  },
  {
   "cell_type": "code",
   "execution_count": 24,
   "id": "edc1ef2b-0d6d-4774-9910-ec586b7c9dfb",
   "metadata": {},
   "outputs": [
    {
     "data": {
      "text/html": [
       "<div>\n",
       "<style scoped>\n",
       "    .dataframe tbody tr th:only-of-type {\n",
       "        vertical-align: middle;\n",
       "    }\n",
       "\n",
       "    .dataframe tbody tr th {\n",
       "        vertical-align: top;\n",
       "    }\n",
       "\n",
       "    .dataframe thead th {\n",
       "        text-align: right;\n",
       "    }\n",
       "</style>\n",
       "<table border=\"1\" class=\"dataframe\">\n",
       "  <thead>\n",
       "    <tr style=\"text-align: right;\">\n",
       "      <th></th>\n",
       "      <th>Film</th>\n",
       "      <th>Genre</th>\n",
       "      <th>Lead Studio</th>\n",
       "      <th>Audience score %</th>\n",
       "      <th>Profitability</th>\n",
       "      <th>Rotten Tomatoes %</th>\n",
       "      <th>Worldwide Gross</th>\n",
       "      <th>Year</th>\n",
       "    </tr>\n",
       "  </thead>\n",
       "  <tbody>\n",
       "    <tr>\n",
       "      <th>0</th>\n",
       "      <td>Zack and Miri Make a Porno</td>\n",
       "      <td>Romance</td>\n",
       "      <td>The Weinstein Company</td>\n",
       "      <td>70</td>\n",
       "      <td>1.747542</td>\n",
       "      <td>64</td>\n",
       "      <td>$41.94</td>\n",
       "      <td>2008</td>\n",
       "    </tr>\n",
       "    <tr>\n",
       "      <th>1</th>\n",
       "      <td>Youth in Revolt</td>\n",
       "      <td>Comedy</td>\n",
       "      <td>The Weinstein Company</td>\n",
       "      <td>52</td>\n",
       "      <td>1.090000</td>\n",
       "      <td>68</td>\n",
       "      <td>$19.62</td>\n",
       "      <td>2010</td>\n",
       "    </tr>\n",
       "    <tr>\n",
       "      <th>2</th>\n",
       "      <td>You Will Meet a Tall Dark Stranger</td>\n",
       "      <td>Comedy</td>\n",
       "      <td>Independent</td>\n",
       "      <td>35</td>\n",
       "      <td>1.211818</td>\n",
       "      <td>43</td>\n",
       "      <td>$26.66</td>\n",
       "      <td>2010</td>\n",
       "    </tr>\n",
       "    <tr>\n",
       "      <th>3</th>\n",
       "      <td>When in Rome</td>\n",
       "      <td>Comedy</td>\n",
       "      <td>Disney</td>\n",
       "      <td>44</td>\n",
       "      <td>0.000000</td>\n",
       "      <td>15</td>\n",
       "      <td>$43.04</td>\n",
       "      <td>2010</td>\n",
       "    </tr>\n",
       "    <tr>\n",
       "      <th>4</th>\n",
       "      <td>What Happens in Vegas</td>\n",
       "      <td>Comedy</td>\n",
       "      <td>Fox</td>\n",
       "      <td>72</td>\n",
       "      <td>6.267647</td>\n",
       "      <td>28</td>\n",
       "      <td>$219.37</td>\n",
       "      <td>2008</td>\n",
       "    </tr>\n",
       "  </tbody>\n",
       "</table>\n",
       "</div>"
      ],
      "text/plain": [
       "                                 Film    Genre            Lead Studio  \\\n",
       "0          Zack and Miri Make a Porno  Romance  The Weinstein Company   \n",
       "1                     Youth in Revolt   Comedy  The Weinstein Company   \n",
       "2  You Will Meet a Tall Dark Stranger   Comedy            Independent   \n",
       "3                        When in Rome   Comedy                 Disney   \n",
       "4               What Happens in Vegas   Comedy                    Fox   \n",
       "\n",
       "   Audience score %  Profitability  Rotten Tomatoes % Worldwide Gross  Year  \n",
       "0                70       1.747542                 64         $41.94   2008  \n",
       "1                52       1.090000                 68         $19.62   2010  \n",
       "2                35       1.211818                 43         $26.66   2010  \n",
       "3                44       0.000000                 15         $43.04   2010  \n",
       "4                72       6.267647                 28        $219.37   2008  "
      ]
     },
     "execution_count": 24,
     "metadata": {},
     "output_type": "execute_result"
    }
   ],
   "source": [
    "df.head()"
   ]
  },
  {
   "cell_type": "code",
   "execution_count": 25,
   "id": "ad727e7e-5e9a-47af-81e6-f32e869338db",
   "metadata": {},
   "outputs": [
    {
     "data": {
      "text/html": [
       "<div>\n",
       "<style scoped>\n",
       "    .dataframe tbody tr th:only-of-type {\n",
       "        vertical-align: middle;\n",
       "    }\n",
       "\n",
       "    .dataframe tbody tr th {\n",
       "        vertical-align: top;\n",
       "    }\n",
       "\n",
       "    .dataframe thead th {\n",
       "        text-align: right;\n",
       "    }\n",
       "</style>\n",
       "<table border=\"1\" class=\"dataframe\">\n",
       "  <thead>\n",
       "    <tr style=\"text-align: right;\">\n",
       "      <th></th>\n",
       "      <th>Film</th>\n",
       "      <th>Genre</th>\n",
       "      <th>Lead Studio</th>\n",
       "      <th>Audience score %</th>\n",
       "      <th>Profitability</th>\n",
       "      <th>Rotten Tomatoes %</th>\n",
       "      <th>Worldwide Gross</th>\n",
       "      <th>Year</th>\n",
       "    </tr>\n",
       "  </thead>\n",
       "  <tbody>\n",
       "    <tr>\n",
       "      <th>1</th>\n",
       "      <td>Youth in Revolt</td>\n",
       "      <td>Comedy</td>\n",
       "      <td>The Weinstein Company</td>\n",
       "      <td>52</td>\n",
       "      <td>1.090000</td>\n",
       "      <td>68</td>\n",
       "      <td>$19.62</td>\n",
       "      <td>2010</td>\n",
       "    </tr>\n",
       "    <tr>\n",
       "      <th>2</th>\n",
       "      <td>You Will Meet a Tall Dark Stranger</td>\n",
       "      <td>Comedy</td>\n",
       "      <td>Independent</td>\n",
       "      <td>35</td>\n",
       "      <td>1.211818</td>\n",
       "      <td>43</td>\n",
       "      <td>$26.66</td>\n",
       "      <td>2010</td>\n",
       "    </tr>\n",
       "    <tr>\n",
       "      <th>3</th>\n",
       "      <td>When in Rome</td>\n",
       "      <td>Comedy</td>\n",
       "      <td>Disney</td>\n",
       "      <td>44</td>\n",
       "      <td>0.000000</td>\n",
       "      <td>15</td>\n",
       "      <td>$43.04</td>\n",
       "      <td>2010</td>\n",
       "    </tr>\n",
       "    <tr>\n",
       "      <th>4</th>\n",
       "      <td>What Happens in Vegas</td>\n",
       "      <td>Comedy</td>\n",
       "      <td>Fox</td>\n",
       "      <td>72</td>\n",
       "      <td>6.267647</td>\n",
       "      <td>28</td>\n",
       "      <td>$219.37</td>\n",
       "      <td>2008</td>\n",
       "    </tr>\n",
       "    <tr>\n",
       "      <th>9</th>\n",
       "      <td>Valentine's Day</td>\n",
       "      <td>Comedy</td>\n",
       "      <td>Warner Bros.</td>\n",
       "      <td>54</td>\n",
       "      <td>4.184038</td>\n",
       "      <td>17</td>\n",
       "      <td>$217.57</td>\n",
       "      <td>2010</td>\n",
       "    </tr>\n",
       "  </tbody>\n",
       "</table>\n",
       "</div>"
      ],
      "text/plain": [
       "                                 Film   Genre            Lead Studio  \\\n",
       "1                     Youth in Revolt  Comedy  The Weinstein Company   \n",
       "2  You Will Meet a Tall Dark Stranger  Comedy            Independent   \n",
       "3                        When in Rome  Comedy                 Disney   \n",
       "4               What Happens in Vegas  Comedy                    Fox   \n",
       "9                     Valentine's Day  Comedy           Warner Bros.   \n",
       "\n",
       "   Audience score %  Profitability  Rotten Tomatoes % Worldwide Gross  Year  \n",
       "1                52       1.090000                 68         $19.62   2010  \n",
       "2                35       1.211818                 43         $26.66   2010  \n",
       "3                44       0.000000                 15         $43.04   2010  \n",
       "4                72       6.267647                 28        $219.37   2008  \n",
       "9                54       4.184038                 17        $217.57   2010  "
      ]
     },
     "execution_count": 25,
     "metadata": {},
     "output_type": "execute_result"
    }
   ],
   "source": [
    "df_comedy = df[df[\"Genre\"] == \"Comedy\"]\n",
    "df_comedy.head()\n",
    "\n",
    "# or\n",
    "# df_comedy_bull = df[\"Genre\"] == \"Comedy\"\n",
    "# df_comedy = df[df_comedy_bull]"
   ]
  },
  {
   "cell_type": "code",
   "execution_count": 26,
   "id": "e5ec608f-3f80-4f95-a10d-9dcc2276fd5b",
   "metadata": {},
   "outputs": [
    {
     "data": {
      "text/plain": [
       "Index(['Film', 'Genre', 'Lead Studio', 'Audience score %', 'Profitability',\n",
       "       'Rotten Tomatoes %', 'Worldwide Gross', 'Year'],\n",
       "      dtype='object')"
      ]
     },
     "execution_count": 26,
     "metadata": {},
     "output_type": "execute_result"
    }
   ],
   "source": [
    "df.columns"
   ]
  },
  {
   "cell_type": "code",
   "execution_count": 27,
   "id": "199e966c-fd98-4f56-a429-09a36b0ad57a",
   "metadata": {},
   "outputs": [],
   "source": [
    "top10_comedy = df_comedy.sort_values(by=\"Audience score %\", ascending=False).head(10)"
   ]
  },
  {
   "cell_type": "code",
   "execution_count": 28,
   "id": "dbddeb93-faf9-4ea1-b694-f84b69e1834d",
   "metadata": {},
   "outputs": [],
   "source": [
    "top10_comedy = top10_comedy[[\"Film\", \"Year\", \"Lead Studio\"]]"
   ]
  },
  {
   "cell_type": "code",
   "execution_count": 29,
   "id": "83e665ad-fba2-4cb6-8308-4844735e7979",
   "metadata": {},
   "outputs": [
    {
     "data": {
      "text/html": [
       "<div>\n",
       "<style scoped>\n",
       "    .dataframe tbody tr th:only-of-type {\n",
       "        vertical-align: middle;\n",
       "    }\n",
       "\n",
       "    .dataframe tbody tr th {\n",
       "        vertical-align: top;\n",
       "    }\n",
       "\n",
       "    .dataframe thead th {\n",
       "        text-align: right;\n",
       "    }\n",
       "</style>\n",
       "<table border=\"1\" class=\"dataframe\">\n",
       "  <thead>\n",
       "    <tr style=\"text-align: right;\">\n",
       "      <th></th>\n",
       "      <th>Film</th>\n",
       "      <th>Year</th>\n",
       "      <th>Lead Studio</th>\n",
       "    </tr>\n",
       "  </thead>\n",
       "  <tbody>\n",
       "    <tr>\n",
       "      <th>54</th>\n",
       "      <td>Knocked Up</td>\n",
       "      <td>2007</td>\n",
       "      <td>Universal</td>\n",
       "    </tr>\n",
       "    <tr>\n",
       "      <th>27</th>\n",
       "      <td>Sex and the City</td>\n",
       "      <td>2008</td>\n",
       "      <td>Warner Bros.</td>\n",
       "    </tr>\n",
       "    <tr>\n",
       "      <th>76</th>\n",
       "      <td>(500) Days of Summer</td>\n",
       "      <td>2009</td>\n",
       "      <td>Fox</td>\n",
       "    </tr>\n",
       "    <tr>\n",
       "      <th>69</th>\n",
       "      <td>Enchanted</td>\n",
       "      <td>2007</td>\n",
       "      <td>Disney</td>\n",
       "    </tr>\n",
       "    <tr>\n",
       "      <th>71</th>\n",
       "      <td>Beginners</td>\n",
       "      <td>2011</td>\n",
       "      <td>Independent</td>\n",
       "    </tr>\n",
       "    <tr>\n",
       "      <th>44</th>\n",
       "      <td>Marley and Me</td>\n",
       "      <td>2008</td>\n",
       "      <td>Fox</td>\n",
       "    </tr>\n",
       "    <tr>\n",
       "      <th>60</th>\n",
       "      <td>High School Musical 3: Senior Year</td>\n",
       "      <td>2008</td>\n",
       "      <td>Disney</td>\n",
       "    </tr>\n",
       "    <tr>\n",
       "      <th>45</th>\n",
       "      <td>Mamma Mia!</td>\n",
       "      <td>2008</td>\n",
       "      <td>Universal</td>\n",
       "    </tr>\n",
       "    <tr>\n",
       "      <th>16</th>\n",
       "      <td>The Proposal</td>\n",
       "      <td>2009</td>\n",
       "      <td>Disney</td>\n",
       "    </tr>\n",
       "    <tr>\n",
       "      <th>30</th>\n",
       "      <td>Penelope</td>\n",
       "      <td>2008</td>\n",
       "      <td>Summit</td>\n",
       "    </tr>\n",
       "  </tbody>\n",
       "</table>\n",
       "</div>"
      ],
      "text/plain": [
       "                                  Film  Year   Lead Studio\n",
       "54                          Knocked Up  2007     Universal\n",
       "27                    Sex and the City  2008  Warner Bros.\n",
       "76                (500) Days of Summer  2009           Fox\n",
       "69                           Enchanted  2007        Disney\n",
       "71                           Beginners  2011   Independent\n",
       "44                       Marley and Me  2008           Fox\n",
       "60  High School Musical 3: Senior Year  2008        Disney\n",
       "45                          Mamma Mia!  2008     Universal\n",
       "16                        The Proposal  2009        Disney\n",
       "30                            Penelope  2008        Summit"
      ]
     },
     "execution_count": 29,
     "metadata": {},
     "output_type": "execute_result"
    }
   ],
   "source": [
    "top10_comedy.to_csv(\"top10_comedies.csv\", index=False)\n",
    "top10_comedy"
   ]
  },
  {
   "cell_type": "code",
   "execution_count": null,
   "id": "53c983e8-05a7-4626-8539-e85dfa963fa0",
   "metadata": {},
   "outputs": [],
   "source": []
  }
 ],
 "metadata": {
  "kernelspec": {
   "display_name": "Python (my_env)",
   "language": "python",
   "name": "my_env"
  },
  "language_info": {
   "codemirror_mode": {
    "name": "ipython",
    "version": 3
   },
   "file_extension": ".py",
   "mimetype": "text/x-python",
   "name": "python",
   "nbconvert_exporter": "python",
   "pygments_lexer": "ipython3",
   "version": "3.13.5"
  }
 },
 "nbformat": 4,
 "nbformat_minor": 5
}
